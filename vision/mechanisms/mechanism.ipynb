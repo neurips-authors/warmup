{
 "cells": [
  {
   "cell_type": "markdown",
   "metadata": {},
   "source": [
    "## Figure 1: Warmup Mechanisms of SGD"
   ]
  },
  {
   "cell_type": "markdown",
   "metadata": {},
   "source": [
    "### FCN in SP with target learning rate $ \\eta_{trgt} =  {32}/{\\lambda_0^H}$.:"
   ]
  },
  {
   "cell_type": "code",
   "execution_count": null,
   "metadata": {},
   "outputs": [],
   "source": [
    "warmup_steps_list = [1, 64, 256, 1024]\n",
    "for warmup_steps in warmup_steps_list:\n",
    "    !python3 train_fcn_sgd_lobpcg.py --loss_name mse --dataset cifar10 --abc sp --scale 0.0 --lr_exp 5.0 --warmup_steps {warmup_steps} --momentum 0.0 --num_examples 50000 --batch_size 512"
   ]
  },
  {
   "cell_type": "markdown",
   "metadata": {},
   "source": [
    "### FCN in $\\mu$ P with target learning rate $ \\eta_{trgt} =  {1}/{\\lambda_0^H}$.:"
   ]
  },
  {
   "cell_type": "code",
   "execution_count": null,
   "metadata": {},
   "outputs": [],
   "source": [
    "warmup_steps_list = [1, 64, 256, 1024]\n",
    "for warmup_steps in warmup_steps_list:\n",
    "    !python3 train_fcn_sgd_lobpcg.py --loss_name mse --dataset cifar10 --abc mup --scale 1.0 --lr_exp 0.0 --warmup_steps {warmup_steps} --momentum 0.0 --num_examples 50000 --batch_size 512"
   ]
  },
  {
   "cell_type": "markdown",
   "metadata": {},
   "source": [
    "## Figure 2: Warmup Mechanisms of Adam with $\\eta_{trgt} = 0.001$"
   ]
  },
  {
   "cell_type": "code",
   "execution_count": null,
   "metadata": {},
   "outputs": [],
   "source": [
    "warmup_steps_list = [1, 64, 256, 1024]\n",
    "for warmup_steps in warmup_steps_list:\n",
    "    !python3 train_fcn_grads_adam_lobpcg.py --opt_name base_adam --loss_name mse --dataset cifar10 --abc sp --scale 0.0 --lr_trgt 0.001 --warmup_steps {warmup_steps} --num_examples 50000 --batch_size 512"
   ]
  }
 ],
 "metadata": {
  "kernelspec": {
   "display_name": "torch",
   "language": "python",
   "name": "python3"
  },
  "language_info": {
   "codemirror_mode": {
    "name": "ipython",
    "version": 3
   },
   "file_extension": ".py",
   "mimetype": "text/x-python",
   "name": "python",
   "nbconvert_exporter": "python",
   "pygments_lexer": "ipython3",
   "version": "3.11.3"
  }
 },
 "nbformat": 4,
 "nbformat_minor": 2
}
